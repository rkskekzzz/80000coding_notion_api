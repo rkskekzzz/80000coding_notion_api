{
 "cells": [
  {
   "cell_type": "code",
   "execution_count": 1,
   "id": "58f2807a",
   "metadata": {},
   "outputs": [],
   "source": [
    "import requests\n",
    "import json\n",
    "from dotenv import load_dotenv\n",
    "import os\n",
    "import pandas as pd"
   ]
  },
  {
   "cell_type": "code",
   "execution_count": 2,
   "id": "a7b088c4",
   "metadata": {},
   "outputs": [],
   "source": [
    "# 카뎃 목록 지정\n",
    "cadets = \"suhshin dha\""
   ]
  },
  {
   "cell_type": "code",
   "execution_count": 3,
   "id": "b664ec06",
   "metadata": {},
   "outputs": [],
   "source": [
    "# notion api key 가져오기\n",
    "load_dotenv()\n",
    "my_bearer = os.getenv(\"BEARER\")"
   ]
  },
  {
   "cell_type": "code",
   "execution_count": 4,
   "id": "d0ecf9c3",
   "metadata": {},
   "outputs": [],
   "source": [
    "libraryDbUrl = \"https://api.notion.com/v1/databases/94e689f5b19947b1ab0f9b5f2d52962b/query\"\n",
    "contributorDbUrl = \"https://api.notion.com/v1/databases/10909fc406ab42c29fa7f82d6a08d741/query\""
   ]
  },
  {
   "cell_type": "code",
   "execution_count": 5,
   "id": "45dfd5a7",
   "metadata": {},
   "outputs": [],
   "source": [
    "headers = {\n",
    "    \"Authorization\": \"Bearer {}\".format(my_bearer),\n",
    "    \"Accept\": \"application/json\",\n",
    "    \"Notion-Version\": \"2022-02-22\",\n",
    "    \"Content-Type\": \"application/json\"\n",
    "}"
   ]
  },
  {
   "cell_type": "code",
   "execution_count": 6,
   "id": "d2f859b4",
   "metadata": {},
   "outputs": [],
   "source": [
    "libraryBody = {\n",
    "    \"filter\": {\n",
    "        \"and\": [\n",
    "            {\n",
    "                \"property\": \"create_date\",\n",
    "                \"created_time\": {\n",
    "                    \"on_or_after\": \"2022-01-01\",\n",
    "                }\n",
    "            },\n",
    "            {\n",
    "                \"property\": \"visible\",\n",
    "                \"select\": {\n",
    "                    \"does_not_equal\": \"no\"\n",
    "                }\n",
    "            }\n",
    "        ]\n",
    "    },\n",
    "    \"page_size\": 100\n",
    "}"
   ]
  },
  {
   "cell_type": "code",
   "execution_count": 7,
   "id": "42313304",
   "metadata": {},
   "outputs": [],
   "source": [
    "contributorBody = {\n",
    "    \"filter\": {\n",
    "        \"property\": \"구분\",\n",
    "        \"multi_select\" : {\n",
    "            \"contains\": \"2기\"\n",
    "        }\n",
    "    }\n",
    "}"
   ]
  },
  {
   "cell_type": "code",
   "execution_count": 8,
   "id": "f5f9047c",
   "metadata": {},
   "outputs": [],
   "source": [
    "contributorResponse = requests.request(\"POST\", contributorDbUrl, headers=headers, data=json.dumps(contributorBody))\n",
    "contributorObject = json.loads(contributorResponse.text)"
   ]
  },
  {
   "cell_type": "code",
   "execution_count": 9,
   "id": "af700c6f",
   "metadata": {
    "scrolled": true
   },
   "outputs": [
    {
     "name": "stdout",
     "output_type": "stream",
     "text": [
      "{'\\x08email': {'id': 'Glaa', 'type': 'rich_text', 'rich_text': []}, '\\x08노션계정': {'id': 'NPPd', 'type': 'people', 'people': []}, '구분': {'id': '%60%3DBq', 'type': 'multi_select', 'multi_select': [{'id': '106c3f1e-ed6a-4d93-9804-c09a04c7ea88', 'name': '2기', 'color': 'yellow'}]}, 'Library DB (속성)에 관계됨': {'id': 'olLW', 'type': 'relation', 'relation': []}, '이름': {'id': 'title', 'type': 'title', 'title': []}, '한 줄 소개': {'id': '272a91ea-fbf5-4fd5-bf7a-994d4618a040', 'type': 'rich_text', 'rich_text': []}, 'blog': {'id': '4b55e315-b829-4237-be71-a7133a610904', 'type': 'url', 'url': None}, 'Stack': {'id': '8b48633a-4f75-4592-ac91-632b8de21fa0', 'type': 'multi_select', 'multi_select': []}, 'github': {'id': 'd347af9d-caea-4a57-902d-6edf9d1b493a', 'type': 'url', 'url': None}}\n"
     ]
    }
   ],
   "source": [
    "print(contributorObject[\"results\"][0][\"properties\"])"
   ]
  },
  {
   "cell_type": "code",
   "execution_count": 10,
   "id": "e9d07bf0",
   "metadata": {
    "scrolled": false
   },
   "outputs": [
    {
     "name": "stdout",
     "output_type": "stream",
     "text": [
      "[]\n",
      "[{'type': 'text', 'text': {'content': 'sohlee', 'link': None}, 'annotations': {'bold': False, 'italic': False, 'strikethrough': False, 'underline': False, 'code': False, 'color': 'default'}, 'plain_text': 'sohlee', 'href': None}]\n",
      "[{'type': 'text', 'text': {'content': 'dohyukim', 'link': None}, 'annotations': {'bold': False, 'italic': False, 'strikethrough': False, 'underline': False, 'code': False, 'color': 'default'}, 'plain_text': 'dohyukim', 'href': None}]\n",
      "[{'type': 'text', 'text': {'content': 'mingkim', 'link': None}, 'annotations': {'bold': False, 'italic': False, 'strikethrough': False, 'underline': False, 'code': False, 'color': 'default'}, 'plain_text': 'mingkim', 'href': None}]\n",
      "[{'type': 'text', 'text': {'content': 'sumkim', 'link': None}, 'annotations': {'bold': False, 'italic': False, 'strikethrough': False, 'underline': False, 'code': False, 'color': 'default'}, 'plain_text': 'sumkim', 'href': None}]\n",
      "[{'type': 'text', 'text': {'content': 'go', 'link': None}, 'annotations': {'bold': False, 'italic': False, 'strikethrough': False, 'underline': False, 'code': False, 'color': 'default'}, 'plain_text': 'go', 'href': None}]\n",
      "[{'type': 'text', 'text': {'content': 'jchin', 'link': None}, 'annotations': {'bold': False, 'italic': False, 'strikethrough': False, 'underline': False, 'code': False, 'color': 'default'}, 'plain_text': 'jchin', 'href': None}]\n",
      "[{'type': 'text', 'text': {'content': 'minjkim2', 'link': None}, 'annotations': {'bold': False, 'italic': False, 'strikethrough': False, 'underline': False, 'code': False, 'color': 'default'}, 'plain_text': 'minjkim2', 'href': None}]\n",
      "[{'type': 'text', 'text': {'content': 'junhelee', 'link': None}, 'annotations': {'bold': False, 'italic': False, 'strikethrough': False, 'underline': False, 'code': False, 'color': 'default'}, 'plain_text': 'junhelee', 'href': None}]\n",
      "[{'type': 'text', 'text': {'content': 'suhyoon', 'link': None}, 'annotations': {'bold': False, 'italic': False, 'strikethrough': False, 'underline': False, 'code': False, 'color': 'default'}, 'plain_text': 'suhyoon', 'href': None}]\n",
      "[{'type': 'text', 'text': {'content': 'seowokim', 'link': None}, 'annotations': {'bold': False, 'italic': False, 'strikethrough': False, 'underline': False, 'code': False, 'color': 'default'}, 'plain_text': 'seowokim', 'href': None}]\n",
      "[{'type': 'text', 'text': {'content': 'jmaing', 'link': None}, 'annotations': {'bold': False, 'italic': False, 'strikethrough': False, 'underline': False, 'code': False, 'color': 'default'}, 'plain_text': 'jmaing', 'href': None}]\n",
      "[{'type': 'text', 'text': {'content': 'siopark', 'link': None}, 'annotations': {'bold': False, 'italic': False, 'strikethrough': False, 'underline': False, 'code': False, 'color': 'default'}, 'plain_text': 'siopark', 'href': None}]\n",
      "[{'type': 'text', 'text': {'content': 'taehyeok', 'link': None}, 'annotations': {'bold': False, 'italic': False, 'strikethrough': False, 'underline': False, 'code': False, 'color': 'default'}, 'plain_text': 'taehyeok', 'href': None}]\n",
      "[{'type': 'text', 'text': {'content': 'jongpark', 'link': None}, 'annotations': {'bold': False, 'italic': False, 'strikethrough': False, 'underline': False, 'code': False, 'color': 'default'}, 'plain_text': 'jongpark', 'href': None}]\n",
      "[{'type': 'text', 'text': {'content': 'guntkim', 'link': None}, 'annotations': {'bold': False, 'italic': False, 'strikethrough': False, 'underline': False, 'code': False, 'color': 'default'}, 'plain_text': 'guntkim', 'href': None}]\n",
      "[{'type': 'text', 'text': {'content': 'eheo', 'link': None}, 'annotations': {'bold': False, 'italic': False, 'strikethrough': False, 'underline': False, 'code': False, 'color': 'default'}, 'plain_text': 'eheo', 'href': None}]\n",
      "[{'type': 'text', 'text': {'content': 'woojlee', 'link': None}, 'annotations': {'bold': False, 'italic': False, 'strikethrough': False, 'underline': False, 'code': False, 'color': 'default'}, 'plain_text': 'woojlee', 'href': None}]\n",
      "[{'type': 'text', 'text': {'content': 'jungchoi', 'link': None}, 'annotations': {'bold': False, 'italic': False, 'strikethrough': False, 'underline': False, 'code': False, 'color': 'default'}, 'plain_text': 'jungchoi', 'href': None}]\n",
      "[{'type': 'text', 'text': {'content': 'chaeyhan', 'link': None}, 'annotations': {'bold': False, 'italic': False, 'strikethrough': False, 'underline': False, 'code': False, 'color': 'default'}, 'plain_text': 'chaeyhan', 'href': None}]\n",
      "[{'type': 'text', 'text': {'content': 'hkong', 'link': None}, 'annotations': {'bold': False, 'italic': False, 'strikethrough': False, 'underline': False, 'code': False, 'color': 'default'}, 'plain_text': 'hkong', 'href': None}]\n",
      "[{'type': 'text', 'text': {'content': 'mobae', 'link': None}, 'annotations': {'bold': False, 'italic': False, 'strikethrough': False, 'underline': False, 'code': False, 'color': 'default'}, 'plain_text': 'mobae', 'href': None}]\n",
      "[{'type': 'text', 'text': {'content': 'ebang', 'link': None}, 'annotations': {'bold': False, 'italic': False, 'strikethrough': False, 'underline': False, 'code': False, 'color': 'default'}, 'plain_text': 'ebang', 'href': None}]\n",
      "[{'type': 'text', 'text': {'content': 'hehwang', 'link': None}, 'annotations': {'bold': False, 'italic': False, 'strikethrough': False, 'underline': False, 'code': False, 'color': 'default'}, 'plain_text': 'hehwang', 'href': None}]\n",
      "[{'type': 'text', 'text': {'content': 'sooyokim', 'link': None}, 'annotations': {'bold': False, 'italic': False, 'strikethrough': False, 'underline': False, 'code': False, 'color': 'default'}, 'plain_text': 'sooyokim', 'href': None}]\n",
      "[{'type': 'text', 'text': {'content': 'isong', 'link': None}, 'annotations': {'bold': False, 'italic': False, 'strikethrough': False, 'underline': False, 'code': False, 'color': 'default'}, 'plain_text': 'isong', 'href': None}]\n",
      "[{'type': 'text', 'text': {'content': 'mkwon', 'link': None}, 'annotations': {'bold': False, 'italic': False, 'strikethrough': False, 'underline': False, 'code': False, 'color': 'default'}, 'plain_text': 'mkwon', 'href': None}]\n",
      "[{'type': 'text', 'text': {'content': 'jayoon', 'link': None}, 'annotations': {'bold': False, 'italic': False, 'strikethrough': False, 'underline': False, 'code': False, 'color': 'default'}, 'plain_text': 'jayoon', 'href': None}]\n",
      "[{'type': 'text', 'text': {'content': 'jeongkpa', 'link': None}, 'annotations': {'bold': False, 'italic': False, 'strikethrough': False, 'underline': False, 'code': False, 'color': 'default'}, 'plain_text': 'jeongkpa', 'href': None}]\n",
      "[{'type': 'text', 'text': {'content': 'sangtale', 'link': None}, 'annotations': {'bold': False, 'italic': False, 'strikethrough': False, 'underline': False, 'code': False, 'color': 'default'}, 'plain_text': 'sangtale', 'href': None}]\n",
      "[{'type': 'text', 'text': {'content': 'koh', 'link': None}, 'annotations': {'bold': False, 'italic': False, 'strikethrough': False, 'underline': False, 'code': False, 'color': 'default'}, 'plain_text': 'koh', 'href': None}]\n",
      "[{'type': 'text', 'text': {'content': 'sujpark', 'link': None}, 'annotations': {'bold': False, 'italic': False, 'strikethrough': False, 'underline': False, 'code': False, 'color': 'default'}, 'plain_text': 'sujpark', 'href': None}]\n",
      "[{'type': 'text', 'text': {'content': 'mikim3', 'link': None}, 'annotations': {'bold': False, 'italic': False, 'strikethrough': False, 'underline': False, 'code': False, 'color': 'default'}, 'plain_text': 'mikim3', 'href': None}]\n",
      "[{'type': 'text', 'text': {'content': 'minkyeki', 'link': None}, 'annotations': {'bold': False, 'italic': False, 'strikethrough': False, 'underline': False, 'code': False, 'color': 'default'}, 'plain_text': 'minkyeki', 'href': None}]\n",
      "[{'type': 'text', 'text': {'content': 'bolee', 'link': None}, 'annotations': {'bold': False, 'italic': False, 'strikethrough': False, 'underline': False, 'code': False, 'color': 'default'}, 'plain_text': 'bolee', 'href': None}]\n",
      "[{'type': 'text', 'text': {'content': 'surlee', 'link': None}, 'annotations': {'bold': False, 'italic': False, 'strikethrough': False, 'underline': False, 'code': False, 'color': 'default'}, 'plain_text': 'surlee', 'href': None}]\n",
      "[{'type': 'text', 'text': {'content': 'jijeong', 'link': None}, 'annotations': {'bold': False, 'italic': False, 'strikethrough': False, 'underline': False, 'code': False, 'color': 'default'}, 'plain_text': 'jijeong', 'href': None}]\n",
      "[{'type': 'text', 'text': {'content': 'jekim', 'link': None}, 'annotations': {'bold': False, 'italic': False, 'strikethrough': False, 'underline': False, 'code': False, 'color': 'default'}, 'plain_text': 'jekim', 'href': None}]\n",
      "[{'type': 'text', 'text': {'content': 'solim', 'link': None}, 'annotations': {'bold': False, 'italic': False, 'strikethrough': False, 'underline': False, 'code': False, 'color': 'default'}, 'plain_text': 'solim', 'href': None}]\n",
      "[{'type': 'text', 'text': {'content': 'jiwhan', 'link': None}, 'annotations': {'bold': False, 'italic': False, 'strikethrough': False, 'underline': False, 'code': False, 'color': 'default'}, 'plain_text': 'jiwhan', 'href': None}]\n",
      "[{'type': 'text', 'text': {'content': 'soylee', 'link': None}, 'annotations': {'bold': False, 'italic': False, 'strikethrough': False, 'underline': False, 'code': False, 'color': 'default'}, 'plain_text': 'soylee', 'href': None}]\n",
      "[{'type': 'text', 'text': {'content': 'yunselee', 'link': None}, 'annotations': {'bold': False, 'italic': False, 'strikethrough': False, 'underline': False, 'code': False, 'color': 'default'}, 'plain_text': 'yunselee', 'href': None}]\n",
      "[{'type': 'text', 'text': {'content': 'hyeonjan', 'link': None}, 'annotations': {'bold': False, 'italic': False, 'strikethrough': False, 'underline': False, 'code': False, 'color': 'default'}, 'plain_text': 'hyeonjan', 'href': None}]\n",
      "[{'type': 'text', 'text': {'content': 'hyunhkim', 'link': None}, 'annotations': {'bold': False, 'italic': False, 'strikethrough': False, 'underline': False, 'code': False, 'color': 'default'}, 'plain_text': 'hyunhkim', 'href': None}]\n",
      "[{'type': 'text', 'text': {'content': 'mingylee', 'link': None}, 'annotations': {'bold': False, 'italic': False, 'strikethrough': False, 'underline': False, 'code': False, 'color': 'default'}, 'plain_text': 'mingylee', 'href': None}]\n",
      "[{'type': 'text', 'text': {'content': 'jbak', 'link': None}, 'annotations': {'bold': False, 'italic': False, 'strikethrough': False, 'underline': False, 'code': False, 'color': 'default'}, 'plain_text': 'jbak', 'href': None}]\n",
      "[{'type': 'text', 'text': {'content': 'byeonkim', 'link': None}, 'annotations': {'bold': False, 'italic': False, 'strikethrough': False, 'underline': False, 'code': False, 'color': 'default'}, 'plain_text': 'byeonkim', 'href': None}]\n",
      "[{'type': 'text', 'text': {'content': 'chanhpar', 'link': None}, 'annotations': {'bold': False, 'italic': False, 'strikethrough': False, 'underline': False, 'code': False, 'color': 'default'}, 'plain_text': 'chanhpar', 'href': None}]\n",
      "[{'type': 'text', 'text': {'content': 'sunhwang', 'link': None}, 'annotations': {'bold': False, 'italic': False, 'strikethrough': False, 'underline': False, 'code': False, 'color': 'default'}, 'plain_text': 'sunhwang', 'href': None}]\n",
      "[{'type': 'text', 'text': {'content': 'eukwon', 'link': None}, 'annotations': {'bold': False, 'italic': False, 'strikethrough': False, 'underline': False, 'code': False, 'color': 'default'}, 'plain_text': 'eukwon', 'href': None}]\n",
      "[{'type': 'text', 'text': {'content': 'jeykim', 'link': None}, 'annotations': {'bold': False, 'italic': False, 'strikethrough': False, 'underline': False, 'code': False, 'color': 'default'}, 'plain_text': 'jeykim', 'href': None}]\n",
      "[{'type': 'text', 'text': {'content': 'seohyuki', 'link': None}, 'annotations': {'bold': False, 'italic': False, 'strikethrough': False, 'underline': False, 'code': False, 'color': 'default'}, 'plain_text': 'seohyuki', 'href': None}]\n",
      "[{'type': 'text', 'text': {'content': 'jaemjeon', 'link': None}, 'annotations': {'bold': False, 'italic': False, 'strikethrough': False, 'underline': False, 'code': False, 'color': 'default'}, 'plain_text': 'jaemjeon', 'href': None}]\n",
      "[{'type': 'text', 'text': {'content': 'junsoh', 'link': None}, 'annotations': {'bold': False, 'italic': False, 'strikethrough': False, 'underline': False, 'code': False, 'color': 'default'}, 'plain_text': 'junsoh', 'href': None}]\n",
      "[{'type': 'text', 'text': {'content': 'jchoi', 'link': None}, 'annotations': {'bold': False, 'italic': False, 'strikethrough': False, 'underline': False, 'code': False, 'color': 'default'}, 'plain_text': 'jchoi', 'href': None}]\n",
      "[{'type': 'text', 'text': {'content': 'sanghyel', 'link': None}, 'annotations': {'bold': False, 'italic': False, 'strikethrough': False, 'underline': False, 'code': False, 'color': 'default'}, 'plain_text': 'sanghyel', 'href': None}]\n",
      "[{'type': 'text', 'text': {'content': 'chwang', 'link': None}, 'annotations': {'bold': False, 'italic': False, 'strikethrough': False, 'underline': False, 'code': False, 'color': 'default'}, 'plain_text': 'chwang', 'href': None}]\n",
      "[{'type': 'text', 'text': {'content': 'sungjpar', 'link': None}, 'annotations': {'bold': False, 'italic': False, 'strikethrough': False, 'underline': False, 'code': False, 'color': 'default'}, 'plain_text': 'sungjpar', 'href': None}]\n",
      "[{'type': 'text', 'text': {'content': 'seunpark', 'link': None}, 'annotations': {'bold': False, 'italic': False, 'strikethrough': False, 'underline': False, 'code': False, 'color': 'default'}, 'plain_text': 'seunpark', 'href': None}]\n",
      "[{'type': 'text', 'text': {'content': 'jibang', 'link': None}, 'annotations': {'bold': False, 'italic': False, 'strikethrough': False, 'underline': False, 'code': False, 'color': 'default'}, 'plain_text': 'jibang', 'href': None}]\n",
      "[{'type': 'text', 'text': {'content': 'daejlee', 'link': None}, 'annotations': {'bold': False, 'italic': False, 'strikethrough': False, 'underline': False, 'code': False, 'color': 'default'}, 'plain_text': 'daejlee', 'href': None}]\n",
      "[{'type': 'text', 'text': {'content': 'yeblee', 'link': None}, 'annotations': {'bold': False, 'italic': False, 'strikethrough': False, 'underline': False, 'code': False, 'color': 'default'}, 'plain_text': 'yeblee', 'href': None}]\n",
      "[{'type': 'text', 'text': {'content': 'joonhan', 'link': None}, 'annotations': {'bold': False, 'italic': False, 'strikethrough': False, 'underline': False, 'code': False, 'color': 'default'}, 'plain_text': 'joonhan', 'href': None}]\n",
      "[{'type': 'text', 'text': {'content': 'dllee', 'link': None}, 'annotations': {'bold': False, 'italic': False, 'strikethrough': False, 'underline': False, 'code': False, 'color': 'default'}, 'plain_text': 'dllee', 'href': None}]\n",
      "[{'type': 'text', 'text': {'content': 'hajeong', 'link': None}, 'annotations': {'bold': False, 'italic': False, 'strikethrough': False, 'underline': False, 'code': False, 'color': 'default'}, 'plain_text': 'hajeong', 'href': None}]\n",
      "[{'type': 'text', 'text': {'content': 'soopark', 'link': None}, 'annotations': {'bold': False, 'italic': False, 'strikethrough': False, 'underline': False, 'code': False, 'color': 'default'}, 'plain_text': 'soopark', 'href': None}]\n",
      "[{'type': 'text', 'text': {'content': 'yomin', 'link': None}, 'annotations': {'bold': False, 'italic': False, 'strikethrough': False, 'underline': False, 'code': False, 'color': 'default'}, 'plain_text': 'yomin', 'href': None}]\n",
      "[{'type': 'text', 'text': {'content': 'youngcho', 'link': None}, 'annotations': {'bold': False, 'italic': False, 'strikethrough': False, 'underline': False, 'code': False, 'color': 'default'}, 'plain_text': 'youngcho', 'href': None}]\n",
      "[{'type': 'text', 'text': {'content': 'kko', 'link': None}, 'annotations': {'bold': False, 'italic': False, 'strikethrough': False, 'underline': False, 'code': False, 'color': 'default'}, 'plain_text': 'kko', 'href': None}]\n",
      "[{'type': 'text', 'text': {'content': 'chanhale', 'link': None}, 'annotations': {'bold': False, 'italic': False, 'strikethrough': False, 'underline': False, 'code': False, 'color': 'default'}, 'plain_text': 'chanhale', 'href': None}]\n",
      "[{'type': 'text', 'text': {'content': 'ccho', 'link': None}, 'annotations': {'bold': False, 'italic': False, 'strikethrough': False, 'underline': False, 'code': False, 'color': 'default'}, 'plain_text': 'ccho', 'href': None}]\n",
      "[{'type': 'text', 'text': {'content': 'yotak', 'link': None}, 'annotations': {'bold': False, 'italic': False, 'strikethrough': False, 'underline': False, 'code': False, 'color': 'default'}, 'plain_text': 'yotak', 'href': None}]\n",
      "[{'type': 'text', 'text': {'content': 'minshin', 'link': None}, 'annotations': {'bold': False, 'italic': False, 'strikethrough': False, 'underline': False, 'code': False, 'color': 'default'}, 'plain_text': 'minshin', 'href': None}]\n"
     ]
    }
   ],
   "source": [
    "contributorList = []\n",
    "for contributor in contributorObject[\"results\"]:\n",
    "    contributorList.append(contributor[\"properties\"][\"이름\"]['title'])\n",
    "    print(contributor[\"properties\"][\"이름\"]['title'])"
   ]
  },
  {
   "cell_type": "code",
   "execution_count": null,
   "id": "536e05ed",
   "metadata": {},
   "outputs": [],
   "source": [
    "print(contributorList)\n",
    "print(len(contributorList))"
   ]
  },
  {
   "cell_type": "code",
   "execution_count": null,
   "id": "7c226089",
   "metadata": {},
   "outputs": [],
   "source": [
    "libraryResponse = requests.request(\"POST\", libraryDbUrl, headers=headers, data=json.dumps(libraryBody))\n",
    "libraryObject = json.loads(libraryResponse.text)\n",
    "libraryObjectList = []\n",
    "libraryObjectList.extend(libraryObject[\"results\"])\n",
    "print(len(libraryObjectList))"
   ]
  },
  {
   "cell_type": "code",
   "execution_count": null,
   "id": "010ccb09",
   "metadata": {},
   "outputs": [],
   "source": [
    "print(libraryObjectList[0][\"properties\"][\"visible\"][\"select\"])"
   ]
  },
  {
   "cell_type": "code",
   "execution_count": null,
   "id": "f859d391",
   "metadata": {},
   "outputs": [],
   "source": [
    "print(libraryObject[\"next_cursor\"])"
   ]
  },
  {
   "cell_type": "code",
   "execution_count": null,
   "id": "6a942d92",
   "metadata": {},
   "outputs": [],
   "source": [
    "libraryBody[\"start_cursor\"] = \"c116ce03-2170-40d2-9706-dd9afa75e9f6\""
   ]
  },
  {
   "cell_type": "code",
   "execution_count": null,
   "id": "842297fe",
   "metadata": {},
   "outputs": [],
   "source": [
    "print(libraryBody)"
   ]
  },
  {
   "cell_type": "code",
   "execution_count": null,
   "id": "5bb8abb4",
   "metadata": {},
   "outputs": [],
   "source": [
    "\n",
    "def filterByContributors(x, cadet):\n",
    "    return cadet == x[\"properties\"][\"rich_text\"][\"formula\"][\"string\"]"
   ]
  },
  {
   "cell_type": "code",
   "execution_count": null,
   "id": "d4df1453",
   "metadata": {},
   "outputs": [],
   "source": [
    "resultList = []\n",
    "for contributor in contributorList:\n",
    "        result = [x for x in libraryObjectList if filterByContributors(x, contributor)]\n",
    "        resultList.append([contributor, len(result)])"
   ]
  },
  {
   "cell_type": "code",
   "execution_count": 109,
   "id": "d1f8c1ef",
   "metadata": {},
   "outputs": [
    {
     "data": {
      "text/plain": [
       "0     0\n",
       "1     0\n",
       "2     2\n",
       "3     2\n",
       "4     0\n",
       "     ..\n",
       "67    0\n",
       "68    3\n",
       "69    0\n",
       "70    0\n",
       "71    0\n",
       "Name: yes, Length: 72, dtype: int64"
      ]
     },
     "execution_count": 109,
     "metadata": {},
     "output_type": "execute_result"
    }
   ],
   "source": [
    "df = pd.DataFrame(resultList)\n",
    "df.columns = ['contributor', 'yes']\n",
    "df[\"yes\"].astype(int)"
   ]
  },
  {
   "cell_type": "code",
   "execution_count": 110,
   "id": "5086a96a",
   "metadata": {},
   "outputs": [],
   "source": [
    "mask = (df.yes >= 2)"
   ]
  },
  {
   "cell_type": "code",
   "execution_count": 111,
   "id": "660e10d0",
   "metadata": {},
   "outputs": [
    {
     "data": {
      "text/html": [
       "<div>\n",
       "<style scoped>\n",
       "    .dataframe tbody tr th:only-of-type {\n",
       "        vertical-align: middle;\n",
       "    }\n",
       "\n",
       "    .dataframe tbody tr th {\n",
       "        vertical-align: top;\n",
       "    }\n",
       "\n",
       "    .dataframe thead th {\n",
       "        text-align: right;\n",
       "    }\n",
       "</style>\n",
       "<table border=\"1\" class=\"dataframe\">\n",
       "  <thead>\n",
       "    <tr style=\"text-align: right;\">\n",
       "      <th></th>\n",
       "      <th>contributor</th>\n",
       "      <th>yes</th>\n",
       "    </tr>\n",
       "  </thead>\n",
       "  <tbody>\n",
       "    <tr>\n",
       "      <th>10</th>\n",
       "      <td>jmaing</td>\n",
       "      <td>10</td>\n",
       "    </tr>\n",
       "    <tr>\n",
       "      <th>61</th>\n",
       "      <td>joonhan</td>\n",
       "      <td>7</td>\n",
       "    </tr>\n",
       "    <tr>\n",
       "      <th>30</th>\n",
       "      <td>sujpark</td>\n",
       "      <td>6</td>\n",
       "    </tr>\n",
       "    <tr>\n",
       "      <th>28</th>\n",
       "      <td>sangtale</td>\n",
       "      <td>3</td>\n",
       "    </tr>\n",
       "    <tr>\n",
       "      <th>40</th>\n",
       "      <td>yunselee</td>\n",
       "      <td>3</td>\n",
       "    </tr>\n",
       "    <tr>\n",
       "      <th>68</th>\n",
       "      <td>chanhale</td>\n",
       "      <td>3</td>\n",
       "    </tr>\n",
       "    <tr>\n",
       "      <th>2</th>\n",
       "      <td>mingkim</td>\n",
       "      <td>2</td>\n",
       "    </tr>\n",
       "    <tr>\n",
       "      <th>3</th>\n",
       "      <td>sumkim</td>\n",
       "      <td>2</td>\n",
       "    </tr>\n",
       "    <tr>\n",
       "      <th>6</th>\n",
       "      <td>minjkim2</td>\n",
       "      <td>2</td>\n",
       "    </tr>\n",
       "    <tr>\n",
       "      <th>16</th>\n",
       "      <td>woojlee</td>\n",
       "      <td>2</td>\n",
       "    </tr>\n",
       "    <tr>\n",
       "      <th>37</th>\n",
       "      <td>solim</td>\n",
       "      <td>2</td>\n",
       "    </tr>\n",
       "    <tr>\n",
       "      <th>46</th>\n",
       "      <td>chanhpar</td>\n",
       "      <td>2</td>\n",
       "    </tr>\n",
       "    <tr>\n",
       "      <th>47</th>\n",
       "      <td>sunhwang</td>\n",
       "      <td>2</td>\n",
       "    </tr>\n",
       "    <tr>\n",
       "      <th>56</th>\n",
       "      <td>sungjpar</td>\n",
       "      <td>2</td>\n",
       "    </tr>\n",
       "  </tbody>\n",
       "</table>\n",
       "</div>"
      ],
      "text/plain": [
       "   contributor  yes\n",
       "10      jmaing   10\n",
       "61     joonhan    7\n",
       "30     sujpark    6\n",
       "28    sangtale    3\n",
       "40    yunselee    3\n",
       "68    chanhale    3\n",
       "2      mingkim    2\n",
       "3       sumkim    2\n",
       "6     minjkim2    2\n",
       "16     woojlee    2\n",
       "37       solim    2\n",
       "46    chanhpar    2\n",
       "47    sunhwang    2\n",
       "56    sungjpar    2"
      ]
     },
     "execution_count": 111,
     "metadata": {},
     "output_type": "execute_result"
    }
   ],
   "source": [
    "df_done = df.loc[mask,:]\n",
    "df_done.sort_values(by='yes',axis=0, ascending=False)"
   ]
  },
  {
   "cell_type": "code",
   "execution_count": null,
   "id": "94e79ed8",
   "metadata": {},
   "outputs": [],
   "source": []
  }
 ],
 "metadata": {
  "kernelspec": {
   "display_name": "Python 3 (ipykernel)",
   "language": "python",
   "name": "python3"
  },
  "language_info": {
   "codemirror_mode": {
    "name": "ipython",
    "version": 3
   },
   "file_extension": ".py",
   "mimetype": "text/x-python",
   "name": "python",
   "nbconvert_exporter": "python",
   "pygments_lexer": "ipython3",
   "version": "3.7.13"
  }
 },
 "nbformat": 4,
 "nbformat_minor": 5
}
