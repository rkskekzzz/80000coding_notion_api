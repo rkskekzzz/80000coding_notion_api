{
 "cells": [
  {
   "cell_type": "code",
   "execution_count": 114,
   "id": "58f2807a",
   "metadata": {},
   "outputs": [],
   "source": [
    "import requests\n",
    "import json\n",
    "from dotenv import load_dotenv\n",
    "import os\n",
    "import pandas as pd"
   ]
  },
  {
   "cell_type": "code",
   "execution_count": 115,
   "id": "a7b088c4",
   "metadata": {},
   "outputs": [],
   "source": [
    "# 카뎃 목록 지정\n",
    "cadets = \"suhshin dha\""
   ]
  },
  {
   "cell_type": "code",
   "execution_count": 116,
   "id": "b664ec06",
   "metadata": {},
   "outputs": [],
   "source": [
    "# notion api key 가져오기\n",
    "load_dotenv()\n",
    "my_bearer = os.getenv(\"BEARER\")"
   ]
  },
  {
   "cell_type": "code",
   "execution_count": 117,
   "id": "d0ecf9c3",
   "metadata": {},
   "outputs": [],
   "source": [
    "libraryDbUrl = \"https://api.notion.com/v1/databases/94e689f5b19947b1ab0f9b5f2d52962b/query\"\n",
    "contributorDbUrl = \"https://api.notion.com/v1/databases/10909fc406ab42c29fa7f82d6a08d741/query\""
   ]
  },
  {
   "cell_type": "code",
   "execution_count": 118,
   "id": "45dfd5a7",
   "metadata": {},
   "outputs": [],
   "source": [
    "headers = {\n",
    "    \"Authorization\": \"Bearer {}\".format(my_bearer),\n",
    "    \"Accept\": \"application/json\",\n",
    "    \"Notion-Version\": \"2022-02-22\",\n",
    "    \"Content-Type\": \"application/json\"\n",
    "}"
   ]
  },
  {
   "cell_type": "code",
   "execution_count": 119,
   "id": "d2f859b4",
   "metadata": {},
   "outputs": [],
   "source": [
    "libraryBody = {\n",
    "    \"filter\": {\n",
    "        \"and\": [\n",
    "            {\n",
    "                \"property\": \"create_date\",\n",
    "                \"created_time\": {\n",
    "                    \"on_or_after\": \"2022-01-01\",\n",
    "                }\n",
    "            },\n",
    "            {\n",
    "                \"property\": \"visible\",\n",
    "                \"select\": {\n",
    "                    \"does_not_equal\": \"no\"\n",
    "                }\n",
    "            }\n",
    "        ]\n",
    "    },\n",
    "    \"page_size\": 100\n",
    "}"
   ]
  },
  {
   "cell_type": "code",
   "execution_count": 120,
   "id": "42313304",
   "metadata": {},
   "outputs": [],
   "source": [
    "contributorBody = {\n",
    "    \"filter\": {\n",
    "        \"property\": \"구분\",\n",
    "        \"multi_select\" : {\n",
    "            \"contains\": \"2기\"\n",
    "        }\n",
    "    }\n",
    "}"
   ]
  },
  {
   "cell_type": "code",
   "execution_count": 121,
   "id": "f5f9047c",
   "metadata": {},
   "outputs": [],
   "source": [
    "contributorResponse = requests.request(\"POST\", contributorDbUrl, headers=headers, data=json.dumps(contributorBody))\n",
    "contributorObject = json.loads(contributorResponse.text)"
   ]
  },
  {
   "cell_type": "code",
   "execution_count": 125,
   "id": "af700c6f",
   "metadata": {
    "scrolled": true
   },
   "outputs": [
    {
     "name": "stdout",
     "output_type": "stream",
     "text": [
      "{'\\x08email': {'id': 'Glaa', 'type': 'rich_text', 'rich_text': [{'type': 'text', 'text': {'content': 'kikititi0510@gmail.com', 'link': {'url': 'kikititi0510@gmail.com'}}, 'annotations': {'bold': False, 'italic': False, 'strikethrough': False, 'underline': False, 'code': False, 'color': 'default'}, 'plain_text': 'kikititi0510@gmail.com', 'href': 'kikititi0510@gmail.com'}]}, '\\x08노션계정': {'id': 'NPPd', 'type': 'people', 'people': [{'object': 'user', 'id': '53ddec06-8d84-4d76-a487-f1300635abed'}]}, '구분': {'id': '%60%3DBq', 'type': 'multi_select', 'multi_select': [{'id': '106c3f1e-ed6a-4d93-9804-c09a04c7ea88', 'name': '2기', 'color': 'yellow'}]}, 'Library DB (속성)에 관계됨': {'id': 'olLW', 'type': 'relation', 'relation': []}, '이름': {'id': 'title', 'type': 'title', 'title': [{'type': 'text', 'text': {'content': 'sohlee', 'link': None}, 'annotations': {'bold': False, 'italic': False, 'strikethrough': False, 'underline': False, 'code': False, 'color': 'default'}, 'plain_text': 'sohlee', 'href': None}]}, '한 줄 소개': {'id': '272a91ea-fbf5-4fd5-bf7a-994d4618a040', 'type': 'rich_text', 'rich_text': []}, 'blog': {'id': '4b55e315-b829-4237-be71-a7133a610904', 'type': 'url', 'url': None}, 'Stack': {'id': '8b48633a-4f75-4592-ac91-632b8de21fa0', 'type': 'multi_select', 'multi_select': [{'id': 'a4622698-ca74-44a8-97f4-95d7f64be129', 'name': 'C', 'color': 'red'}]}, 'github': {'id': 'd347af9d-caea-4a57-902d-6edf9d1b493a', 'type': 'url', 'url': None}}\n"
     ]
    }
   ],
   "source": [
    "print(contributorObject[\"results\"][0][\"properties\"])"
   ]
  },
  {
   "cell_type": "code",
   "execution_count": 59,
   "id": "e9d07bf0",
   "metadata": {},
   "outputs": [],
   "source": [
    "contributorList = []\n",
    "for contributor in contributorObject[\"results\"]:\n",
    "    contributorList.append(contributor[\"properties\"][\"이름\"]['title'][0][\"plain_text\"])"
   ]
  },
  {
   "cell_type": "code",
   "execution_count": 60,
   "id": "536e05ed",
   "metadata": {},
   "outputs": [
    {
     "name": "stdout",
     "output_type": "stream",
     "text": [
      "['sohlee', 'dohyukim', 'mingkim', 'sumkim', 'go', 'jchin', 'minjkim2', 'junhelee', 'suhyoon', 'seowokim', 'jmaing', 'siopark', 'taehyeok', 'jongpark', 'guntkim', 'eheo', 'woojlee', 'jungchoi', 'chaeyhan', 'hkong', 'mobae', 'ebang', 'hehwang', 'sooyokim', 'isong', 'mkwon', 'jayoon', 'jeongkpa', 'sangtale', 'koh', 'sujpark', 'mikim3', 'minkyeki', 'bolee', 'surlee', 'jijeong', 'jekim', 'solim', 'jiwhan', 'soylee', 'yunselee', 'hyeonjan', 'hyunhkim', 'mingylee', 'jbak', 'byeonkim', 'chanhpar', 'sunhwang', 'eukwon', 'jeykim', 'seohyuki', 'jaemjeon', 'junsoh', 'jchoi', 'sanghyel', 'chwang', 'sungjpar', 'seunpark', 'jibang', 'daejlee', 'yeblee', 'joonhan', 'dllee', 'hajeong', 'soopark', 'yomin', 'youngcho', 'kko', 'chanhale', 'ccho', 'yotak', 'minshin']\n",
      "72\n"
     ]
    }
   ],
   "source": [
    "print(contributorList)\n",
    "print(len(contributorList))"
   ]
  },
  {
   "cell_type": "code",
   "execution_count": 61,
   "id": "7c226089",
   "metadata": {},
   "outputs": [
    {
     "name": "stdout",
     "output_type": "stream",
     "text": [
      "100\n"
     ]
    }
   ],
   "source": [
    "libraryResponse = requests.request(\"POST\", libraryDbUrl, headers=headers, data=json.dumps(libraryBody))\n",
    "libraryObject = json.loads(libraryResponse.text)\n",
    "libraryObjectList = []\n",
    "libraryObjectList.extend(libraryObject[\"results\"])\n",
    "print(len(libraryObjectList))"
   ]
  },
  {
   "cell_type": "code",
   "execution_count": 127,
   "id": "010ccb09",
   "metadata": {},
   "outputs": [
    {
     "name": "stdout",
     "output_type": "stream",
     "text": [
      "None\n"
     ]
    }
   ],
   "source": [
    "print(libraryObjectList[0][\"properties\"][\"visible\"][\"select\"])"
   ]
  },
  {
   "cell_type": "code",
   "execution_count": 63,
   "id": "f859d391",
   "metadata": {},
   "outputs": [
    {
     "name": "stdout",
     "output_type": "stream",
     "text": [
      "c116ce03-2170-40d2-9706-dd9afa75e9f6\n"
     ]
    }
   ],
   "source": [
    "print(libraryObject[\"next_cursor\"])"
   ]
  },
  {
   "cell_type": "code",
   "execution_count": 65,
   "id": "6a942d92",
   "metadata": {},
   "outputs": [],
   "source": [
    "libraryBody[\"start_cursor\"] = \"c116ce03-2170-40d2-9706-dd9afa75e9f6\""
   ]
  },
  {
   "cell_type": "code",
   "execution_count": 66,
   "id": "842297fe",
   "metadata": {},
   "outputs": [
    {
     "name": "stdout",
     "output_type": "stream",
     "text": [
      "{'filter': {'and': [{'property': 'create_date', 'created_time': {'on_or_after': '2022-01-01'}}, {'property': 'visible', 'select': {'does_not_equal': 'no'}}]}, 'page_size': 100, 'start_cursor': 'c116ce03-2170-40d2-9706-dd9afa75e9f6'}\n"
     ]
    }
   ],
   "source": [
    "print(libraryBody)"
   ]
  },
  {
   "cell_type": "code",
   "execution_count": 73,
   "id": "5bb8abb4",
   "metadata": {},
   "outputs": [],
   "source": [
    "\n",
    "def filterByContributors(x, cadet):\n",
    "    return cadet == x[\"properties\"][\"rich_text\"][\"formula\"][\"string\"]"
   ]
  },
  {
   "cell_type": "code",
   "execution_count": 95,
   "id": "d4df1453",
   "metadata": {},
   "outputs": [],
   "source": [
    "resultList = []\n",
    "for contributor in contributorList:\n",
    "        result = [x for x in libraryObjectList if filterByContributors(x, contributor)]\n",
    "        resultList.append([contributor, len(result)])"
   ]
  },
  {
   "cell_type": "code",
   "execution_count": 109,
   "id": "d1f8c1ef",
   "metadata": {},
   "outputs": [
    {
     "data": {
      "text/plain": [
       "0     0\n",
       "1     0\n",
       "2     2\n",
       "3     2\n",
       "4     0\n",
       "     ..\n",
       "67    0\n",
       "68    3\n",
       "69    0\n",
       "70    0\n",
       "71    0\n",
       "Name: yes, Length: 72, dtype: int64"
      ]
     },
     "execution_count": 109,
     "metadata": {},
     "output_type": "execute_result"
    }
   ],
   "source": [
    "df = pd.DataFrame(resultList)\n",
    "df.columns = ['contributor', 'yes']\n",
    "df[\"yes\"].astype(int)"
   ]
  },
  {
   "cell_type": "code",
   "execution_count": 110,
   "id": "5086a96a",
   "metadata": {},
   "outputs": [],
   "source": [
    "mask = (df.yes >= 2)"
   ]
  },
  {
   "cell_type": "code",
   "execution_count": 111,
   "id": "660e10d0",
   "metadata": {},
   "outputs": [
    {
     "data": {
      "text/html": [
       "<div>\n",
       "<style scoped>\n",
       "    .dataframe tbody tr th:only-of-type {\n",
       "        vertical-align: middle;\n",
       "    }\n",
       "\n",
       "    .dataframe tbody tr th {\n",
       "        vertical-align: top;\n",
       "    }\n",
       "\n",
       "    .dataframe thead th {\n",
       "        text-align: right;\n",
       "    }\n",
       "</style>\n",
       "<table border=\"1\" class=\"dataframe\">\n",
       "  <thead>\n",
       "    <tr style=\"text-align: right;\">\n",
       "      <th></th>\n",
       "      <th>contributor</th>\n",
       "      <th>yes</th>\n",
       "    </tr>\n",
       "  </thead>\n",
       "  <tbody>\n",
       "    <tr>\n",
       "      <th>10</th>\n",
       "      <td>jmaing</td>\n",
       "      <td>10</td>\n",
       "    </tr>\n",
       "    <tr>\n",
       "      <th>61</th>\n",
       "      <td>joonhan</td>\n",
       "      <td>7</td>\n",
       "    </tr>\n",
       "    <tr>\n",
       "      <th>30</th>\n",
       "      <td>sujpark</td>\n",
       "      <td>6</td>\n",
       "    </tr>\n",
       "    <tr>\n",
       "      <th>28</th>\n",
       "      <td>sangtale</td>\n",
       "      <td>3</td>\n",
       "    </tr>\n",
       "    <tr>\n",
       "      <th>40</th>\n",
       "      <td>yunselee</td>\n",
       "      <td>3</td>\n",
       "    </tr>\n",
       "    <tr>\n",
       "      <th>68</th>\n",
       "      <td>chanhale</td>\n",
       "      <td>3</td>\n",
       "    </tr>\n",
       "    <tr>\n",
       "      <th>2</th>\n",
       "      <td>mingkim</td>\n",
       "      <td>2</td>\n",
       "    </tr>\n",
       "    <tr>\n",
       "      <th>3</th>\n",
       "      <td>sumkim</td>\n",
       "      <td>2</td>\n",
       "    </tr>\n",
       "    <tr>\n",
       "      <th>6</th>\n",
       "      <td>minjkim2</td>\n",
       "      <td>2</td>\n",
       "    </tr>\n",
       "    <tr>\n",
       "      <th>16</th>\n",
       "      <td>woojlee</td>\n",
       "      <td>2</td>\n",
       "    </tr>\n",
       "    <tr>\n",
       "      <th>37</th>\n",
       "      <td>solim</td>\n",
       "      <td>2</td>\n",
       "    </tr>\n",
       "    <tr>\n",
       "      <th>46</th>\n",
       "      <td>chanhpar</td>\n",
       "      <td>2</td>\n",
       "    </tr>\n",
       "    <tr>\n",
       "      <th>47</th>\n",
       "      <td>sunhwang</td>\n",
       "      <td>2</td>\n",
       "    </tr>\n",
       "    <tr>\n",
       "      <th>56</th>\n",
       "      <td>sungjpar</td>\n",
       "      <td>2</td>\n",
       "    </tr>\n",
       "  </tbody>\n",
       "</table>\n",
       "</div>"
      ],
      "text/plain": [
       "   contributor  yes\n",
       "10      jmaing   10\n",
       "61     joonhan    7\n",
       "30     sujpark    6\n",
       "28    sangtale    3\n",
       "40    yunselee    3\n",
       "68    chanhale    3\n",
       "2      mingkim    2\n",
       "3       sumkim    2\n",
       "6     minjkim2    2\n",
       "16     woojlee    2\n",
       "37       solim    2\n",
       "46    chanhpar    2\n",
       "47    sunhwang    2\n",
       "56    sungjpar    2"
      ]
     },
     "execution_count": 111,
     "metadata": {},
     "output_type": "execute_result"
    }
   ],
   "source": [
    "df_done = df.loc[mask,:]\n",
    "df_done.sort_values(by='yes',axis=0, ascending=False)"
   ]
  },
  {
   "cell_type": "code",
   "execution_count": null,
   "id": "94e79ed8",
   "metadata": {},
   "outputs": [],
   "source": []
  }
 ],
 "metadata": {
  "kernelspec": {
   "display_name": "Python 3 (ipykernel)",
   "language": "python",
   "name": "python3"
  },
  "language_info": {
   "codemirror_mode": {
    "name": "ipython",
    "version": 3
   },
   "file_extension": ".py",
   "mimetype": "text/x-python",
   "name": "python",
   "nbconvert_exporter": "python",
   "pygments_lexer": "ipython3",
   "version": "3.7.13"
  }
 },
 "nbformat": 4,
 "nbformat_minor": 5
}
