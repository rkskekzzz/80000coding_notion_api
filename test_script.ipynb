{
 "cells": [
  {
   "cell_type": "code",
   "execution_count": 8,
   "id": "58f2807a",
   "metadata": {},
   "outputs": [],
   "source": [
    "import requests\n",
    "import json\n",
    "from dotenv import load_dotenv\n",
    "import os"
   ]
  },
  {
   "cell_type": "code",
   "execution_count": 30,
   "id": "a7b088c4",
   "metadata": {},
   "outputs": [],
   "source": [
    "# 카뎃 목록 지정\n",
    "cadets = \"suhshin dha\""
   ]
  },
  {
   "cell_type": "code",
   "execution_count": 31,
   "id": "992a5dd8",
   "metadata": {},
   "outputs": [],
   "source": [
    "# notion api key 가져오기\n",
    "load_dotenv()\n",
    "my_bearer = os.getenv(\"BEARER\")"
   ]
  },
  {
   "cell_type": "code",
   "execution_count": 32,
   "id": "d0ecf9c3",
   "metadata": {},
   "outputs": [],
   "source": [
    "url = \"https://api.notion.com/v1/databases/94e689f5b19947b1ab0f9b5f2d52962b/query\""
   ]
  },
  {
   "cell_type": "code",
   "execution_count": 21,
   "id": "45dfd5a7",
   "metadata": {},
   "outputs": [],
   "source": [
    "headers = {\n",
    "    \"Authorization\": \"Bearer {}\".format(my_bearer),\n",
    "    \"Accept\": \"application/json\",\n",
    "    \"Notion-Version\": \"2022-02-22\",\n",
    "    \"Content-Type\": \"application/json\"\n",
    "}\n"
   ]
  },
  {
   "cell_type": "code",
   "execution_count": 22,
   "id": "d2f859b4",
   "metadata": {},
   "outputs": [],
   "source": [
    "body = {\n",
    "    \"filter\": {\n",
    "        \"and\": [\n",
    "            {\n",
    "                \"property\": \"create_date\",\n",
    "                \"created_time\": {\n",
    "                    \"on_or_after\": \"2022-04-01\",            \n",
    "                }\n",
    "            },\n",
    "            {\n",
    "                \"property\": \"visible\",\n",
    "                \"select\": {\n",
    "                    \"does_not_equal\": \"no\"\n",
    "                }\n",
    "            }\n",
    "        ]\n",
    "        \n",
    "    },\n",
    "    \"page_size\": 100\n",
    "}"
   ]
  },
  {
   "cell_type": "code",
   "execution_count": 23,
   "id": "78aeeedf",
   "metadata": {},
   "outputs": [],
   "source": [
    "response = requests.request(\"POST\", url, headers=headers, data=json.dumps(body))"
   ]
  },
  {
   "cell_type": "code",
   "execution_count": 24,
   "id": "f5f9047c",
   "metadata": {},
   "outputs": [
    {
     "name": "stdout",
     "output_type": "stream",
     "text": [
      "28\n"
     ]
    }
   ],
   "source": [
    "jsonObject = json.loads(response.text)\n",
    "print(len(jsonObject[\"results\"]))"
   ]
  },
  {
   "cell_type": "code",
   "execution_count": 25,
   "id": "af700c6f",
   "metadata": {},
   "outputs": [
    {
     "data": {
      "text/plain": [
       "'daejlee'"
      ]
     },
     "execution_count": 25,
     "metadata": {},
     "output_type": "execute_result"
    }
   ],
   "source": [
    "jsonObject[\"results\"][0][\"properties\"][\"cadet_intraID\"][\"rich_text\"][0][\"plain_text\"]"
   ]
  },
  {
   "cell_type": "code",
   "execution_count": 26,
   "id": "e9d07bf0",
   "metadata": {},
   "outputs": [],
   "source": [
    "def filterByCadet(x, cadet):\n",
    "    return cadet == x[\"properties\"][\"cadet_intraID\"][\"rich_text\"][0][\"plain_text\"]"
   ]
  },
  {
   "cell_type": "code",
   "execution_count": 27,
   "id": "536e05ed",
   "metadata": {},
   "outputs": [
    {
     "name": "stdout",
     "output_type": "stream",
     "text": [
      "suhshin : 1개\n",
      "dha : 0개\n"
     ]
    }
   ],
   "source": [
    "for cadet in cadets.split():\n",
    "    result = [x for x in jsonObject[\"results\"] if filterByCadet(x, cadet)]\n",
    "    print(\"{} : {}개\".format(cadet, len(result)))"
   ]
  },
  {
   "cell_type": "code",
   "execution_count": null,
   "id": "7c226089",
   "metadata": {},
   "outputs": [],
   "source": []
  },
  {
   "cell_type": "code",
   "execution_count": null,
   "id": "010ccb09",
   "metadata": {},
   "outputs": [],
   "source": []
  },
  {
   "cell_type": "code",
   "execution_count": null,
   "id": "189e7e42",
   "metadata": {},
   "outputs": [],
   "source": []
  }
 ],
 "metadata": {
  "kernelspec": {
   "display_name": "Python 3 (ipykernel)",
   "language": "python",
   "name": "python3"
  },
  "language_info": {
   "codemirror_mode": {
    "name": "ipython",
    "version": 3
   },
   "file_extension": ".py",
   "mimetype": "text/x-python",
   "name": "python",
   "nbconvert_exporter": "python",
   "pygments_lexer": "ipython3",
   "version": "3.7.13"
  }
 },
 "nbformat": 4,
 "nbformat_minor": 5
}
