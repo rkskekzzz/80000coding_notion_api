{
 "cells": [
  {
   "cell_type": "code",
   "execution_count": 2,
   "id": "58f2807a",
   "metadata": {},
   "outputs": [],
   "source": [
    "import requests\n",
    "import json\n",
    "from dotenv import load_dotenv\n",
    "import os"
   ]
  },
  {
   "cell_type": "code",
   "execution_count": 3,
   "id": "a7b088c4",
   "metadata": {},
   "outputs": [],
   "source": [
    "# 카뎃 목록 지정\n",
    "cadets = \"suhshin dha\""
   ]
  },
  {
   "cell_type": "code",
   "execution_count": 4,
   "id": "b664ec06",
   "metadata": {},
   "outputs": [],
   "source": [
    "# notion api key 가져오기\n",
    "load_dotenv()\n",
    "my_bearer = os.getenv(\"BEARER\")"
   ]
  },
  {
   "cell_type": "code",
   "execution_count": 6,
   "id": "d0ecf9c3",
   "metadata": {},
   "outputs": [],
   "source": [
    "libraryDbUrl = \"https://api.notion.com/v1/databases/94e689f5b19947b1ab0f9b5f2d52962b/query\"\n",
    "contributorDbUrl = \"https://api.notion.com/v1/databases/10909fc406ab42c29fa7f82d6a08d741/query\""
   ]
  },
  {
   "cell_type": "code",
   "execution_count": 7,
   "id": "45dfd5a7",
   "metadata": {},
   "outputs": [],
   "source": [
    "headers = {\n",
    "    \"Authorization\": \"Bearer {}\".format(my_bearer),\n",
    "    \"Accept\": \"application/json\",\n",
    "    \"Notion-Version\": \"2022-02-22\",\n",
    "    \"Content-Type\": \"application/json\"\n",
    "}"
   ]
  },
  {
   "cell_type": "code",
   "execution_count": 55,
   "id": "d2f859b4",
   "metadata": {},
   "outputs": [],
   "source": [
    "libraryBody = {\n",
    "    \"filter\": {\n",
    "        \"and\": [\n",
    "            {\n",
    "                \"property\": \"create_date\",\n",
    "                \"created_time\": {\n",
    "                    \"on_or_after\": \"2022-01-01\",\n",
    "                }\n",
    "            },\n",
    "            {\n",
    "                \"property\": \"visible\",\n",
    "                \"select\": {\n",
    "                    \"does_not_equal\": \"no\"\n",
    "                }\n",
    "            }\n",
    "        ]\n",
    "    },\n",
    "    \"page_size\": 100\n",
    "}"
   ]
  },
  {
   "cell_type": "code",
   "execution_count": 56,
   "id": "a13b614f",
   "metadata": {},
   "outputs": [],
   "source": [
    "contributorBody = {\n",
    "    \"filter\": {\n",
    "        \"property\": \"구분\",\n",
    "        \"multi_select\" : {\n",
    "            \"contains\": \"2기\"\n",
    "        }\n",
    "    }\n",
    "}"
   ]
  },
  {
   "cell_type": "code",
   "execution_count": 57,
   "id": "f5f9047c",
   "metadata": {},
   "outputs": [],
   "source": [
    "contributorResponse = requests.request(\"POST\", contributorDbUrl, headers=headers, data=json.dumps(contributorBody))\n",
    "contributorObject = json.loads(contributorResponse.text)"
   ]
  },
  {
   "cell_type": "code",
   "execution_count": 58,
   "id": "af700c6f",
   "metadata": {
    "scrolled": true
   },
   "outputs": [
    {
     "name": "stdout",
     "output_type": "stream",
     "text": [
      "sohlee\n"
     ]
    }
   ],
   "source": [
    "print(contributorObject[\"results\"][0][\"properties\"][\"이름\"]['title'][0][\"plain_text\"])"
   ]
  },
  {
   "cell_type": "code",
   "execution_count": 59,
   "id": "e9d07bf0",
   "metadata": {},
   "outputs": [],
   "source": [
    "contributorList = []\n",
    "for contributor in contributorObject[\"results\"]:\n",
    "    contributorList.append(contributor[\"properties\"][\"이름\"]['title'][0][\"plain_text\"])"
   ]
  },
  {
   "cell_type": "code",
   "execution_count": 60,
   "id": "536e05ed",
   "metadata": {},
   "outputs": [
    {
     "name": "stdout",
     "output_type": "stream",
     "text": [
      "['sohlee', 'dohyukim', 'mingkim', 'sumkim', 'go', 'jchin', 'minjkim2', 'junhelee', 'suhyoon', 'seowokim', 'jmaing', 'siopark', 'taehyeok', 'jongpark', 'guntkim', 'eheo', 'woojlee', 'jungchoi', 'chaeyhan', 'hkong', 'mobae', 'ebang', 'hehwang', 'sooyokim', 'isong', 'mkwon', 'jayoon', 'jeongkpa', 'sangtale', 'koh', 'sujpark', 'mikim3', 'minkyeki', 'bolee', 'surlee', 'jijeong', 'jekim', 'solim', 'jiwhan', 'soylee', 'yunselee', 'hyeonjan', 'hyunhkim', 'mingylee', 'jbak', 'byeonkim', 'chanhpar', 'sunhwang', 'eukwon', 'jeykim', 'seohyuki', 'jaemjeon', 'junsoh', 'jchoi', 'sanghyel', 'chwang', 'sungjpar', 'seunpark', 'jibang', 'daejlee', 'yeblee', 'joonhan', 'dllee', 'hajeong', 'soopark', 'yomin', 'youngcho', 'kko', 'chanhale', 'ccho', 'yotak', 'minshin']\n",
      "72\n"
     ]
    }
   ],
   "source": [
    "print(contributorList)\n",
    "print(len(contributorList))"
   ]
  },
  {
   "cell_type": "code",
   "execution_count": 61,
   "id": "7c226089",
   "metadata": {},
   "outputs": [
    {
     "name": "stdout",
     "output_type": "stream",
     "text": [
      "100\n"
     ]
    }
   ],
   "source": [
    "libraryResponse = requests.request(\"POST\", libraryDbUrl, headers=headers, data=json.dumps(libraryBody))\n",
    "libraryObject = json.loads(libraryResponse.text)\n",
    "libraryObjectList = []\n",
    "libraryObjectList.extend(libraryObject[\"results\"])\n",
    "print(len(libraryObjectList))"
   ]
  },
  {
   "cell_type": "code",
   "execution_count": 62,
   "id": "010ccb09",
   "metadata": {},
   "outputs": [
    {
     "name": "stdout",
     "output_type": "stream",
     "text": [
      "youngcho\n"
     ]
    }
   ],
   "source": [
    "print(libraryObjectList[0][\"properties\"][\"rich_text\"][\"formula\"][\"string\"])"
   ]
  },
  {
   "cell_type": "code",
   "execution_count": 63,
   "id": "f859d391",
   "metadata": {},
   "outputs": [
    {
     "name": "stdout",
     "output_type": "stream",
     "text": [
      "c116ce03-2170-40d2-9706-dd9afa75e9f6\n"
     ]
    }
   ],
   "source": [
    "print(libraryObject[\"next_cursor\"])"
   ]
  },
  {
   "cell_type": "code",
   "execution_count": 65,
   "id": "f91d9544",
   "metadata": {},
   "outputs": [],
   "source": [
    "libraryBody[\"start_cursor\"] = \"c116ce03-2170-40d2-9706-dd9afa75e9f6\""
   ]
  },
  {
   "cell_type": "code",
   "execution_count": 66,
   "id": "7462272d",
   "metadata": {},
   "outputs": [
    {
     "name": "stdout",
     "output_type": "stream",
     "text": [
      "{'filter': {'and': [{'property': 'create_date', 'created_time': {'on_or_after': '2022-01-01'}}, {'property': 'visible', 'select': {'does_not_equal': 'no'}}]}, 'page_size': 100, 'start_cursor': 'c116ce03-2170-40d2-9706-dd9afa75e9f6'}\n"
     ]
    }
   ],
   "source": [
    "print(libraryBody)"
   ]
  },
  {
   "cell_type": "code",
   "execution_count": null,
   "id": "2579dd33",
   "metadata": {},
   "outputs": [],
   "source": []
  }
 ],
 "metadata": {
  "kernelspec": {
   "display_name": "Python 3 (ipykernel)",
   "language": "python",
   "name": "python3"
  },
  "language_info": {
   "codemirror_mode": {
    "name": "ipython",
    "version": 3
   },
   "file_extension": ".py",
   "mimetype": "text/x-python",
   "name": "python",
   "nbconvert_exporter": "python",
   "pygments_lexer": "ipython3",
   "version": "3.7.13"
  }
 },
 "nbformat": 4,
 "nbformat_minor": 5
}
