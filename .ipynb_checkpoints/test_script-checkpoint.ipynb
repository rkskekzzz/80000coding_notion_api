{
 "cells": [
  {
   "cell_type": "code",
   "execution_count": 2,
   "id": "58f2807a",
   "metadata": {},
   "outputs": [],
   "source": [
    "import requests\n",
    "import json\n",
    "from dotenv import load_dotenv\n",
    "import os"
   ]
  },
  {
   "cell_type": "code",
   "execution_count": 3,
   "id": "a7b088c4",
   "metadata": {},
   "outputs": [],
   "source": [
    "# 카뎃 목록 지정\n",
    "cadets = \"suhshin dha\""
   ]
  },
  {
   "cell_type": "code",
   "execution_count": 4,
   "id": "b664ec06",
   "metadata": {},
   "outputs": [],
   "source": [
    "# notion api key 가져오기\n",
    "load_dotenv()\n",
    "my_bearer = os.getenv(\"BEARER\")"
   ]
  },
  {
   "cell_type": "code",
   "execution_count": 6,
   "id": "d0ecf9c3",
   "metadata": {},
   "outputs": [],
   "source": [
    "libraryDbUrl = \"https://api.notion.com/v1/databases/94e689f5b19947b1ab0f9b5f2d52962b/query\"\n",
    "contributorDbUrl = \"https://api.notion.com/v1/databases/10909fc406ab42c29fa7f82d6a08d741/query\""
   ]
  },
  {
   "cell_type": "code",
   "execution_count": 7,
   "id": "45dfd5a7",
   "metadata": {},
   "outputs": [],
   "source": [
    "headers = {\n",
    "    \"Authorization\": \"Bearer {}\".format(my_bearer),\n",
    "    \"Accept\": \"application/json\",\n",
    "    \"Notion-Version\": \"2022-02-22\",\n",
    "    \"Content-Type\": \"application/json\"\n",
    "}"
   ]
  },
  {
   "cell_type": "code",
   "execution_count": 9,
   "id": "d2f859b4",
   "metadata": {},
   "outputs": [],
   "source": [
    "libraryBody = {\n",
    "    \"filter\": {\n",
    "        \"and\": [\n",
    "            {\n",
    "                \"property\": \"create_date\",\n",
    "                \"created_time\": {\n",
    "                    \"on_or_after\": \"2022-04-01\",\n",
    "                }\n",
    "            },\n",
    "            {\n",
    "                \"property\": \"visible\",\n",
    "                \"select\": {\n",
    "                    \"does_not_equal\": \"no\"\n",
    "                }\n",
    "            }\n",
    "        ]\n",
    "    },\n",
    "    \"page_size\": 100\n",
    "}"
   ]
  },
  {
   "cell_type": "code",
   "execution_count": 10,
   "id": "a6d23b42",
   "metadata": {},
   "outputs": [],
   "source": [
    "contributorBody = {\n",
    "    \"filter\": {\n",
    "        \"property\": \"구분\",\n",
    "        \"multi_select\" : {\n",
    "            \"contains\": \"2기\"\n",
    "        }\n",
    "    }\n",
    "}"
   ]
  },
  {
   "cell_type": "code",
   "execution_count": 11,
   "id": "f5f9047c",
   "metadata": {},
   "outputs": [],
   "source": [
    "contributorResponse = requests.request(\"POST\", contributorDbUrl, headers=headers, data=json.dumps(contributorBody))\n",
    "contributorObject = json.loads(contributorResponse.text)"
   ]
  },
  {
   "cell_type": "code",
   "execution_count": 18,
   "id": "af700c6f",
   "metadata": {
    "scrolled": true
   },
   "outputs": [
    {
     "ename": "KeyError",
     "evalue": "'이름'",
     "output_type": "error",
     "traceback": [
      "\u001b[0;31m---------------------------------------------------------------------------\u001b[0m",
      "\u001b[0;31mKeyError\u001b[0m                                  Traceback (most recent call last)",
      "\u001b[0;32m/var/folders/kr/br45562929d19g0t_bcfdy1h0000gn/T/ipykernel_11766/964087111.py\u001b[0m in \u001b[0;36m<module>\u001b[0;34m\u001b[0m\n\u001b[0;32m----> 1\u001b[0;31m \u001b[0mprint\u001b[0m\u001b[0;34m(\u001b[0m\u001b[0mcontributorObject\u001b[0m\u001b[0;34m[\u001b[0m\u001b[0;34m\"results\"\u001b[0m\u001b[0;34m]\u001b[0m\u001b[0;34m[\u001b[0m\u001b[0;36m0\u001b[0m\u001b[0;34m]\u001b[0m\u001b[0;34m[\u001b[0m\u001b[0;34m\"이름\"\u001b[0m\u001b[0;34m]\u001b[0m\u001b[0;34m[\u001b[0m\u001b[0;34m\"title\"\u001b[0m\u001b[0;34m]\u001b[0m\u001b[0;34m[\u001b[0m\u001b[0;34m\"plain_text\"\u001b[0m\u001b[0;34m]\u001b[0m\u001b[0;34m)\u001b[0m\u001b[0;34m\u001b[0m\u001b[0;34m\u001b[0m\u001b[0m\n\u001b[0m",
      "\u001b[0;31mKeyError\u001b[0m: '이름'"
     ]
    }
   ],
   "source": [
    "print(contributorObject[\"results\"][0][\"properties\"][\"이름\"][\"title\"][\"plain_text\"])"
   ]
  },
  {
   "cell_type": "code",
   "execution_count": 26,
   "id": "e9d07bf0",
   "metadata": {},
   "outputs": [],
   "source": []
  },
  {
   "cell_type": "code",
   "execution_count": 27,
   "id": "536e05ed",
   "metadata": {},
   "outputs": [
    {
     "name": "stdout",
     "output_type": "stream",
     "text": [
      "suhshin : 1개\n",
      "dha : 0개\n"
     ]
    }
   ],
   "source": []
  },
  {
   "cell_type": "code",
   "execution_count": null,
   "id": "7c226089",
   "metadata": {},
   "outputs": [],
   "source": []
  },
  {
   "cell_type": "code",
   "execution_count": null,
   "id": "010ccb09",
   "metadata": {},
   "outputs": [],
   "source": []
  },
  {
   "cell_type": "code",
   "execution_count": null,
   "id": "f859d391",
   "metadata": {},
   "outputs": [],
   "source": []
  }
 ],
 "metadata": {
  "kernelspec": {
   "display_name": "Python 3 (ipykernel)",
   "language": "python",
   "name": "python3"
  },
  "language_info": {
   "codemirror_mode": {
    "name": "ipython",
    "version": 3
   },
   "file_extension": ".py",
   "mimetype": "text/x-python",
   "name": "python",
   "nbconvert_exporter": "python",
   "pygments_lexer": "ipython3",
   "version": "3.7.13"
  }
 },
 "nbformat": 4,
 "nbformat_minor": 5
}
